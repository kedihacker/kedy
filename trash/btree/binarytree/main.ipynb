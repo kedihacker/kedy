{
 "cells": [
  {
   "cell_type": "code",
   "execution_count": 1,
   "metadata": {},
   "outputs": [],
   "source": [
    "class Node:\n",
    "    def __init__(self, data):\n",
    "\n",
    "        self.left = None\n",
    "        self.right = None\n",
    "        self.data = data\n",
    "\n",
    "    def PrintTree(self):\n",
    "        if self.left:\n",
    "            self.left.PrintTree()\n",
    "        print( self.data),\n",
    "        if self.right:\n",
    "            self.right.PrintTree()\n",
    "\n",
    "    def insert(self, data):\n",
    "# Compare the new value with the parent node\n",
    "        if self.data:\n",
    "            if data < self.data:\n",
    "                if self.left is None:\n",
    "                    self.left = Node(data)\n",
    "                else:\n",
    "                    self.left.insert(data)\n",
    "            elif data > self.data:\n",
    "                if self.right is None:\n",
    "                    self.right = Node(data)\n",
    "                else:\n",
    "                    self.right.insert(data)\n",
    "        else:\n",
    "            self.data = data\n",
    "            \n",
    "            "
   ]
  },
  {
   "cell_type": "code",
   "execution_count": 10,
   "metadata": {},
   "outputs": [],
   "source": [
    "root = Node(10)"
   ]
  },
  {
   "cell_type": "code",
   "execution_count": 3,
   "metadata": {},
   "outputs": [
    {
     "name": "stdout",
     "output_type": "stream",
     "text": [
      "10\n"
     ]
    }
   ],
   "source": [
    "root.PrintTree()"
   ]
  },
  {
   "cell_type": "code",
   "execution_count": 4,
   "metadata": {},
   "outputs": [],
   "source": [
    "root.insert(120)"
   ]
  },
  {
   "cell_type": "code",
   "execution_count": 11,
   "metadata": {},
   "outputs": [],
   "source": [
    "import random\n",
    "for x in range(100):\n",
    "    root.insert(random.randint(3, 1000))"
   ]
  },
  {
   "cell_type": "code",
   "execution_count": 12,
   "metadata": {},
   "outputs": [
    {
     "name": "stdout",
     "output_type": "stream",
     "text": [
      "10\n",
      "14\n",
      "17\n",
      "20\n",
      "22\n",
      "30\n",
      "51\n",
      "53\n",
      "65\n",
      "71\n",
      "74\n",
      "77\n",
      "85\n",
      "97\n",
      "102\n",
      "108\n",
      "119\n",
      "126\n",
      "135\n",
      "137\n",
      "142\n",
      "145\n",
      "166\n",
      "167\n",
      "189\n",
      "194\n",
      "196\n",
      "205\n",
      "251\n",
      "253\n",
      "286\n",
      "306\n",
      "312\n",
      "328\n",
      "332\n",
      "342\n",
      "351\n",
      "352\n",
      "360\n",
      "364\n",
      "392\n",
      "397\n",
      "417\n",
      "420\n",
      "434\n",
      "441\n",
      "465\n",
      "469\n",
      "527\n",
      "532\n",
      "533\n",
      "548\n",
      "564\n",
      "578\n",
      "579\n",
      "598\n",
      "618\n",
      "621\n",
      "638\n",
      "644\n",
      "654\n",
      "655\n",
      "664\n",
      "688\n",
      "698\n",
      "726\n",
      "729\n",
      "734\n",
      "746\n",
      "750\n",
      "760\n",
      "778\n",
      "804\n",
      "807\n",
      "815\n",
      "831\n",
      "837\n",
      "841\n",
      "881\n",
      "884\n",
      "888\n",
      "902\n",
      "903\n",
      "911\n",
      "949\n",
      "967\n",
      "970\n",
      "976\n",
      "977\n",
      "982\n",
      "983\n",
      "985\n",
      "992\n",
      "998\n"
     ]
    }
   ],
   "source": [
    "root.PrintTree()"
   ]
  },
  {
   "cell_type": "code",
   "execution_count": 7,
   "metadata": {},
   "outputs": [],
   "source": []
  },
  {
   "cell_type": "code",
   "execution_count": null,
   "metadata": {},
   "outputs": [],
   "source": []
  }
 ],
 "metadata": {
  "kernelspec": {
   "display_name": "Python 3",
   "language": "python",
   "name": "python3"
  },
  "language_info": {
   "codemirror_mode": {
    "name": "ipython",
    "version": 3
   },
   "file_extension": ".py",
   "mimetype": "text/x-python",
   "name": "python",
   "nbconvert_exporter": "python",
   "pygments_lexer": "ipython3",
   "version": "3.9.4"
  }
 },
 "nbformat": 4,
 "nbformat_minor": 4
}
